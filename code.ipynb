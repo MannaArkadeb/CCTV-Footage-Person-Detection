{
 "cells": [
  {
   "cell_type": "code",
   "execution_count": null,
   "metadata": {
    "colab": {
     "base_uri": "https://localhost:8080/"
    },
    "executionInfo": {
     "elapsed": 28,
     "status": "ok",
     "timestamp": 1754744554033,
     "user": {
      "displayName": "Arkadeb MANNA",
      "userId": "10938977057359683247"
     },
     "user_tz": -330
    },
    "id": "YQbyLlhH1LMV",
    "outputId": "209cd61c-0c38-4e60-af2b-a4b653dbe4f1"
   },
   "outputs": [],
   "source": [
    "import os\n",
    "HOME = os.getcwd()\n",
    "print(HOME)"
   ]
  },
  {
   "cell_type": "code",
   "execution_count": null,
   "metadata": {
    "executionInfo": {
     "elapsed": 4,
     "status": "ok",
     "timestamp": 1754744554036,
     "user": {
      "displayName": "Arkadeb MANNA",
      "userId": "10938977057359683247"
     },
     "user_tz": -330
    },
    "id": "9pQKB69e1NjD"
   },
   "outputs": [],
   "source": [
    "SOURCE_VIDEO_PATH = f\"/content/14101338_3840_2160_60fps.mp4\""
   ]
  },
  {
   "cell_type": "code",
   "execution_count": null,
   "metadata": {
    "colab": {
     "base_uri": "https://localhost:8080/"
    },
    "executionInfo": {
     "elapsed": 16679,
     "status": "ok",
     "timestamp": 1754744570715,
     "user": {
      "displayName": "Arkadeb MANNA",
      "userId": "10938977057359683247"
     },
     "user_tz": -330
    },
    "id": "kZERAXOi1PNz",
    "outputId": "15863887-1122-4de0-c3ca-f30e6981f9e5"
   },
   "outputs": [],
   "source": [
    "!pip install \"ultralytics<=8.3.40\"\n",
    "\n",
    "from IPython import display\n",
    "display.clear_output()\n",
    "!yolo settings sync=False\n",
    "\n",
    "import ultralytics\n",
    "ultralytics.checks()"
   ]
  },
  {
   "cell_type": "code",
   "execution_count": null,
   "metadata": {
    "colab": {
     "base_uri": "https://localhost:8080/"
    },
    "executionInfo": {
     "elapsed": 38901,
     "status": "ok",
     "timestamp": 1754744609620,
     "user": {
      "displayName": "Arkadeb MANNA",
      "userId": "10938977057359683247"
     },
     "user_tz": -330
    },
    "id": "lt5jgKLL1RgH",
    "outputId": "7397ff55-4c68-4b2a-bce8-d845c956e139"
   },
   "outputs": [],
   "source": [
    "%cd {HOME}\n",
    "!git clone https://github.com/ifzhang/ByteTrack.git\n",
    "%cd {HOME}/ByteTrack\n",
    "\n",
    "!sed -i 's/onnx==1.8.1/onnx==1.9.0/g' requirements.txt\n",
    "\n",
    "!pip3 install -q -r requirements.txt\n",
    "!python3 setup.py -q develop\n",
    "!pip install -q cython_bbox\n",
    "!pip install -q onemetric\n",
    "!pip install -q loguru lap thop\n",
    "\n",
    "from IPython import display\n",
    "display.clear_output()\n",
    "\n",
    "\n",
    "import sys\n",
    "sys.path.append(f\"{HOME}/ByteTrack\")\n",
    "\n",
    "\n",
    "import yolox\n",
    "print(\"yolox.__version__:\", yolox.__version__)"
   ]
  },
  {
   "cell_type": "code",
   "execution_count": null,
   "metadata": {
    "executionInfo": {
     "elapsed": 118,
     "status": "ok",
     "timestamp": 1754744609720,
     "user": {
      "displayName": "Arkadeb MANNA",
      "userId": "10938977057359683247"
     },
     "user_tz": -330
    },
    "id": "rkVg-PYL1Thy"
   },
   "outputs": [],
   "source": [
    "from yolox.tracker.byte_tracker import BYTETracker, STrack\n",
    "from onemetric.cv.utils.iou import box_iou_batch\n",
    "from dataclasses import dataclass\n",
    "\n",
    "\n",
    "@dataclass(frozen=True)\n",
    "class BYTETrackerArgs:\n",
    "    track_thresh: float = 0.25\n",
    "    track_buffer: int = 30\n",
    "    match_thresh: float = 0.8\n",
    "    aspect_ratio_thresh: float = 3.0\n",
    "    min_box_area: float = 1.0\n",
    "    mot20: bool = False"
   ]
  },
  {
   "cell_type": "code",
   "execution_count": null,
   "metadata": {
    "colab": {
     "base_uri": "https://localhost:8080/"
    },
    "executionInfo": {
     "elapsed": 6247,
     "status": "ok",
     "timestamp": 1754744615971,
     "user": {
      "displayName": "Arkadeb MANNA",
      "userId": "10938977057359683247"
     },
     "user_tz": -330
    },
    "id": "GAD-_BuZ1WPf",
    "outputId": "77746c5e-a9e8-44be-dcd7-f75f08b07126"
   },
   "outputs": [],
   "source": [
    "!pip install torchreid"
   ]
  },
  {
   "cell_type": "code",
   "execution_count": null,
   "metadata": {
    "colab": {
     "base_uri": "https://localhost:8080/"
    },
    "executionInfo": {
     "elapsed": 5938,
     "status": "ok",
     "timestamp": 1754744621926,
     "user": {
      "displayName": "Arkadeb MANNA",
      "userId": "10938977057359683247"
     },
     "user_tz": -330
    },
    "id": "zBp9tgwk1YHs",
    "outputId": "6aaca556-c80e-453e-f62b-6fcd4a488fba"
   },
   "outputs": [],
   "source": [
    "import torch\n",
    "import torchreid\n",
    "device = torch.device(\"cuda\" if torch.cuda.is_available() else \"cpu\")\n",
    "model_reid = torchreid.models.build_model(\n",
    "    name='osnet_x1_0',\n",
    "    num_classes=1000,\n",
    "    pretrained=True\n",
    ")\n",
    "model_reid.eval().to(device)"
   ]
  },
  {
   "cell_type": "code",
   "execution_count": null,
   "metadata": {
    "colab": {
     "base_uri": "https://localhost:8080/"
    },
    "executionInfo": {
     "elapsed": 4171,
     "status": "ok",
     "timestamp": 1754744626102,
     "user": {
      "displayName": "Arkadeb MANNA",
      "userId": "10938977057359683247"
     },
     "user_tz": -330
    },
    "id": "_s2J7MDX1bnA",
    "outputId": "92b78eed-fcd9-4ff8-9d67-31e5f19e3de7"
   },
   "outputs": [],
   "source": [
    "!pip install supervision==0.1.0\n",
    "\n",
    "\n",
    "from IPython import display\n",
    "display.clear_output()\n",
    "\n",
    "\n",
    "import supervision\n",
    "print(\"supervision.__version__:\", supervision.__version__)"
   ]
  },
  {
   "cell_type": "code",
   "execution_count": null,
   "metadata": {
    "executionInfo": {
     "elapsed": 7,
     "status": "ok",
     "timestamp": 1754744626123,
     "user": {
      "displayName": "Arkadeb MANNA",
      "userId": "10938977057359683247"
     },
     "user_tz": -330
    },
    "id": "1FPiQjUY1dlK"
   },
   "outputs": [],
   "source": [
    "from supervision.draw.color import ColorPalette\n",
    "from supervision.geometry.dataclasses import Point\n",
    "from supervision.video.dataclasses import VideoInfo\n",
    "from supervision.video.source import get_video_frames_generator\n",
    "from supervision.video.sink import VideoSink\n",
    "from supervision.notebook.utils import show_frame_in_notebook\n",
    "from supervision.tools.detections import Detections, BoxAnnotator\n",
    "from supervision.tools.line_counter import LineCounter, LineCounterAnnotator"
   ]
  },
  {
   "cell_type": "code",
   "execution_count": null,
   "metadata": {
    "executionInfo": {
     "elapsed": 6,
     "status": "ok",
     "timestamp": 1754744626138,
     "user": {
      "displayName": "Arkadeb MANNA",
      "userId": "10938977057359683247"
     },
     "user_tz": -330
    },
    "id": "FNjRMCc51frh"
   },
   "outputs": [],
   "source": [
    "from typing import List\n",
    "import numpy as np\n",
    "def detections2boxes(detections: Detections) -> np.ndarray:\n",
    "    return np.hstack((\n",
    "        detections.xyxy,\n",
    "        detections.confidence[:, np.newaxis]\n",
    "    ))\n",
    "def tracks2boxes(tracks: List[STrack]) -> np.ndarray:\n",
    "    return np.array([\n",
    "        track.tlbr\n",
    "        for track\n",
    "        in tracks\n",
    "    ], dtype=float)\n",
    "def match_detections_with_tracks(\n",
    "    detections: Detections,\n",
    "    tracks: List[STrack]\n",
    ") -> Detections:\n",
    "    if not np.any(detections.xyxy) or len(tracks) == 0:\n",
    "        return np.empty((0,))\n",
    "\n",
    "    tracks_boxes = tracks2boxes(tracks=tracks)\n",
    "    iou = box_iou_batch(tracks_boxes, detections.xyxy)\n",
    "    track2detection = np.argmax(iou, axis=1)\n",
    "\n",
    "    tracker_ids = [None] * len(detections)\n",
    "\n",
    "    for tracker_index, detection_index in enumerate(track2detection):\n",
    "        if iou[tracker_index, detection_index] != 0:\n",
    "            original_id = tracks[tracker_index].track_id\n",
    "            wrapped_id = (original_id - 1) % 50 + 1\n",
    "            tracker_ids[detection_index] = wrapped_id\n",
    "\n",
    "    return tracker_ids"
   ]
  },
  {
   "cell_type": "code",
   "execution_count": null,
   "metadata": {
    "colab": {
     "base_uri": "https://localhost:8080/"
    },
    "executionInfo": {
     "elapsed": 1516,
     "status": "ok",
     "timestamp": 1754744627663,
     "user": {
      "displayName": "Arkadeb MANNA",
      "userId": "10938977057359683247"
     },
     "user_tz": -330
    },
    "id": "RBjrLk6G1h12",
    "outputId": "b021a4a6-da1b-49ce-cc23-f9eee08d9fe3"
   },
   "outputs": [],
   "source": [
    "MODEL = \"yolov8x.pt\"\n",
    "from ultralytics import YOLO\n",
    "\n",
    "model = YOLO(MODEL)\n",
    "model.fuse()"
   ]
  },
  {
   "cell_type": "code",
   "execution_count": null,
   "metadata": {
    "executionInfo": {
     "elapsed": 38,
     "status": "ok",
     "timestamp": 1754744627666,
     "user": {
      "displayName": "Arkadeb MANNA",
      "userId": "10938977057359683247"
     },
     "user_tz": -330
    },
    "id": "7vQTYKfA1j0s"
   },
   "outputs": [],
   "source": [
    "from PIL import Image\n",
    "import torch\n",
    "from torchvision import transforms\n",
    "\n",
    "reid_transform = transforms.Compose([\n",
    "    transforms.Resize((256, 128)),\n",
    "    transforms.ToTensor(),\n",
    "    transforms.Normalize([0.485, 0.456, 0.406],\n",
    "                         [0.229, 0.224, 0.225]),\n",
    "])\n",
    "\n",
    "def extract_reid_features(frame, bboxes, model):\n",
    "    crops = []\n",
    "    for box in bboxes:\n",
    "        x1, y1, x2, y2 = map(int, box)\n",
    "        crop = frame[y1:y2, x1:x2]\n",
    "        if crop.size == 0:\n",
    "            continue\n",
    "        crop = Image.fromarray(crop[..., ::-1])\n",
    "        crop = reid_transform(crop).unsqueeze(0).cuda()\n",
    "        crops.append(crop)\n",
    "\n",
    "    if not crops:\n",
    "        return np.array([])\n",
    "\n",
    "    with torch.no_grad():\n",
    "        inputs = torch.cat(crops, dim=0)\n",
    "        features = model(inputs).cpu().numpy()\n",
    "\n",
    "    return features"
   ]
  },
  {
   "cell_type": "code",
   "execution_count": null,
   "metadata": {
    "executionInfo": {
     "elapsed": 27,
     "status": "ok",
     "timestamp": 1754744627670,
     "user": {
      "displayName": "Arkadeb MANNA",
      "userId": "10938977057359683247"
     },
     "user_tz": -330
    },
    "id": "li4LTtiW1mF9"
   },
   "outputs": [],
   "source": [
    "LINE_START = Point(50, 1500)\n",
    "LINE_END = Point(3840-50, 1500)\n",
    "\n",
    "TARGET_VIDEO_PATH = f\"{HOME}/vehicle-counting-result.mp4\""
   ]
  },
  {
   "cell_type": "code",
   "execution_count": null,
   "metadata": {
    "colab": {
     "base_uri": "https://localhost:8080/"
    },
    "executionInfo": {
     "elapsed": 39,
     "status": "ok",
     "timestamp": 1754744627691,
     "user": {
      "displayName": "Arkadeb MANNA",
      "userId": "10938977057359683247"
     },
     "user_tz": -330
    },
    "id": "5QMJAibP1oDU",
    "outputId": "7393ca94-3180-4914-8591-2676b2fda93e"
   },
   "outputs": [],
   "source": [
    "VideoInfo.from_video_path(SOURCE_VIDEO_PATH)"
   ]
  },
  {
   "cell_type": "code",
   "execution_count": null,
   "metadata": {
    "executionInfo": {
     "elapsed": 19,
     "status": "ok",
     "timestamp": 1754744627720,
     "user": {
      "displayName": "Arkadeb MANNA",
      "userId": "10938977057359683247"
     },
     "user_tz": -330
    },
    "id": "QEKtYKPt1p-R"
   },
   "outputs": [],
   "source": [
    "import numpy as np\n",
    "np.float = float"
   ]
  },
  {
   "cell_type": "code",
   "execution_count": null,
   "metadata": {
    "executionInfo": {
     "elapsed": 5,
     "status": "ok",
     "timestamp": 1754744627729,
     "user": {
      "displayName": "Arkadeb MANNA",
      "userId": "10938977057359683247"
     },
     "user_tz": -330
    },
    "id": "zowaDGBQ1sBg"
   },
   "outputs": [],
   "source": [
    "CLASS_NAMES_DICT = model.model.names\n",
    "CLASS_ID = [0]"
   ]
  },
  {
   "cell_type": "code",
   "execution_count": null,
   "metadata": {
    "colab": {
     "base_uri": "https://localhost:8080/",
     "height": 1000,
     "referenced_widgets": [
      "76a55fb8372d46e09990df0fb096f395",
      "72a8a3b366f24c6292281d1388ab7917",
      "02dc7572c9e3400b90447aa3c70ed432",
      "09a6d35a5d724e418c52aaa97b3c3228",
      "54de2c977e744868be7cef9dcebef8f0",
      "18ab642d6ec84e1eb3aafca44169efc2",
      "1ba806d7c07d4de9b218acc5ed586544",
      "9dad5d6e548d440baf27640c04dbb419",
      "f271e515826f4cb3a475e5380bca1355",
      "5e7d72fed76d4d01b13772f73efea8c8",
      "496a660d742149018d76d5f2e8a4f5cc"
     ]
    },
    "executionInfo": {
     "elapsed": 190393,
     "status": "ok",
     "timestamp": 1754744818145,
     "user": {
      "displayName": "Arkadeb MANNA",
      "userId": "10938977057359683247"
     },
     "user_tz": -330
    },
    "id": "Z-ss-FHr1t0F",
    "outputId": "077775d6-7cc4-4bf6-dbdf-c8e38a5e96cd"
   },
   "outputs": [],
   "source": [
    "from tqdm.notebook import tqdm\n",
    "\n",
    "byte_tracker = BYTETracker(BYTETrackerArgs())\n",
    "video_info = VideoInfo.from_video_path(SOURCE_VIDEO_PATH)\n",
    "generator = get_video_frames_generator(SOURCE_VIDEO_PATH)\n",
    "line_counter = LineCounter(start=LINE_START, end=LINE_END)\n",
    "box_annotator = BoxAnnotator(color=ColorPalette(), thickness=4, text_thickness=4, text_scale=2)\n",
    "line_annotator = LineCounterAnnotator(thickness=4, text_thickness=4, text_scale=2)\n",
    "\n",
    "import csv\n",
    "from collections import defaultdict\n",
    "\n",
    "entry_times = dict()\n",
    "last_seen_frame = dict()\n",
    "fps = video_info.fps\n",
    "frame_idx = 0\n",
    "final_log = []\n",
    "\n",
    "with VideoSink(TARGET_VIDEO_PATH, video_info) as sink:\n",
    "    for frame in tqdm(generator, total=video_info.total_frames):\n",
    "        results = model(frame)\n",
    "        detections = Detections(\n",
    "            xyxy=results[0].boxes.xyxy.cpu().numpy(),\n",
    "            confidence=results[0].boxes.conf.cpu().numpy(),\n",
    "            class_id=results[0].boxes.cls.cpu().numpy().astype(int)\n",
    "        )\n",
    "        mask = np.array([class_id in CLASS_ID for class_id in detections.class_id], dtype=bool)\n",
    "        detections.filter(mask=mask, inplace=True)\n",
    "        bboxes = detections.xyxy\n",
    "        features = extract_reid_features(frame, bboxes, model_reid)\n",
    "\n",
    "        if len(features) > 0:\n",
    "            detection_features = np.hstack((detections2boxes(detections), features))\n",
    "        else:\n",
    "            detection_features = detections2boxes(detections)\n",
    "\n",
    "        tracks = byte_tracker.update(\n",
    "        output_results=detection_features,\n",
    "        img_info=frame.shape,\n",
    "        img_size=frame.shape,\n",
    "        frame=frame,\n",
    "        reid_model=model_reid\n",
    "        )\n",
    "        current_ids = set()\n",
    "\n",
    "        for track in tracks:\n",
    "            if not track.is_activated:\n",
    "                continue\n",
    "            original_id = track.track_id\n",
    "            track_id = (original_id - 1) % 50 + 1\n",
    "            current_ids.add(track_id)\n",
    "\n",
    "            if track_id not in entry_times:\n",
    "                entry_times[track_id] = frame_idx\n",
    "\n",
    "            last_seen_frame[track_id] = frame_idx\n",
    "\n",
    "        inactive_ids = []\n",
    "        for track_id, last_frame in last_seen_frame.items():\n",
    "            if track_id not in current_ids and frame_idx - last_frame > byte_tracker.args.track_buffer:\n",
    "                entry_sec = entry_times[track_id] / fps\n",
    "                exit_sec = last_frame / fps\n",
    "                final_log.append((track_id, entry_sec, exit_sec))\n",
    "                inactive_ids.append(track_id)\n",
    "\n",
    "        for track_id in inactive_ids:\n",
    "            entry_times.pop(track_id, None)\n",
    "            last_seen_frame.pop(track_id, None)\n",
    "\n",
    "        tracker_id = match_detections_with_tracks(detections=detections, tracks=tracks)\n",
    "        detections.tracker_id = np.array(tracker_id)\n",
    "        mask = np.array([tracker_id is not None for tracker_id in detections.tracker_id], dtype=bool)\n",
    "        detections.filter(mask=mask, inplace=True)\n",
    "        labels = [\n",
    "            f\"#{tracker_id} {CLASS_NAMES_DICT[class_id]} {confidence:0.2f}\"\n",
    "            for _, confidence, class_id, tracker_id\n",
    "            in detections\n",
    "        ]\n",
    "        line_counter.update(detections=detections)\n",
    "        frame = box_annotator.annotate(frame=frame, detections=detections, labels=labels)\n",
    "        sink.write_frame(frame)\n",
    "        frame_idx += 1\n",
    "import pandas as pd\n",
    "\n",
    "for track_id in list(last_seen_frame):\n",
    "    entry_sec = entry_times[track_id] / fps\n",
    "    exit_sec = last_seen_frame[track_id] / fps\n",
    "    final_log.append((track_id, entry_sec, exit_sec))\n",
    "\n",
    "df = pd.DataFrame(final_log, columns=[\"person_id\", \"entry_time\", \"exit_time\"])\n",
    "df[\"entry_time\"] = pd.to_datetime(df[\"entry_time\"], unit='s').dt.strftime('%H:%M:%S')\n",
    "df[\"exit_time\"] = pd.to_datetime(df[\"exit_time\"], unit='s').dt.strftime('%H:%M:%S')\n",
    "\n",
    "df.to_csv(\"person_entry_exit_log.csv\", index=False)"
   ]
  },
  {
   "cell_type": "code",
   "execution_count": null,
   "metadata": {
    "colab": {
     "base_uri": "https://localhost:8080/",
     "height": 17
    },
    "executionInfo": {
     "elapsed": 5,
     "status": "ok",
     "timestamp": 1754744818156,
     "user": {
      "displayName": "Arkadeb MANNA",
      "userId": "10938977057359683247"
     },
     "user_tz": -330
    },
    "id": "Z1ytK2CQ1wZa",
    "outputId": "cf2038b2-494e-4594-a1eb-154853accf48"
   },
   "outputs": [],
   "source": [
    "from google.colab import files\n",
    "files.download(\"person_entry_exit_log.csv\")"
   ]
  }
 ],
 "metadata": {
  "accelerator": "GPU",
  "colab": {
   "authorship_tag": "ABX9TyMGqB0QuqoQPukTlYIaOihC",
   "gpuType": "T4",
   "provenance": []
  },
  "kernelspec": {
   "display_name": "Python 3",
   "name": "python3"
  },
  "language_info": {
   "name": "python"
  },
  "widgets": {
   "application/vnd.jupyter.widget-state+json": {
    "02dc7572c9e3400b90447aa3c70ed432": {
     "model_module": "@jupyter-widgets/controls",
     "model_module_version": "1.5.0",
     "model_name": "FloatProgressModel",
     "state": {
      "_dom_classes": [],
      "_model_module": "@jupyter-widgets/controls",
      "_model_module_version": "1.5.0",
      "_model_name": "FloatProgressModel",
      "_view_count": null,
      "_view_module": "@jupyter-widgets/controls",
      "_view_module_version": "1.5.0",
      "_view_name": "ProgressView",
      "bar_style": "success",
      "description": "",
      "description_tooltip": null,
      "layout": "IPY_MODEL_9dad5d6e548d440baf27640c04dbb419",
      "max": 443,
      "min": 0,
      "orientation": "horizontal",
      "style": "IPY_MODEL_f271e515826f4cb3a475e5380bca1355",
      "value": 443
     }
    },
    "09a6d35a5d724e418c52aaa97b3c3228": {
     "model_module": "@jupyter-widgets/controls",
     "model_module_version": "1.5.0",
     "model_name": "HTMLModel",
     "state": {
      "_dom_classes": [],
      "_model_module": "@jupyter-widgets/controls",
      "_model_module_version": "1.5.0",
      "_model_name": "HTMLModel",
      "_view_count": null,
      "_view_module": "@jupyter-widgets/controls",
      "_view_module_version": "1.5.0",
      "_view_name": "HTMLView",
      "description": "",
      "description_tooltip": null,
      "layout": "IPY_MODEL_5e7d72fed76d4d01b13772f73efea8c8",
      "placeholder": "​",
      "style": "IPY_MODEL_496a660d742149018d76d5f2e8a4f5cc",
      "value": " 443/443 [03:10&lt;00:00,  3.19it/s]"
     }
    },
    "18ab642d6ec84e1eb3aafca44169efc2": {
     "model_module": "@jupyter-widgets/base",
     "model_module_version": "1.2.0",
     "model_name": "LayoutModel",
     "state": {
      "_model_module": "@jupyter-widgets/base",
      "_model_module_version": "1.2.0",
      "_model_name": "LayoutModel",
      "_view_count": null,
      "_view_module": "@jupyter-widgets/base",
      "_view_module_version": "1.2.0",
      "_view_name": "LayoutView",
      "align_content": null,
      "align_items": null,
      "align_self": null,
      "border": null,
      "bottom": null,
      "display": null,
      "flex": null,
      "flex_flow": null,
      "grid_area": null,
      "grid_auto_columns": null,
      "grid_auto_flow": null,
      "grid_auto_rows": null,
      "grid_column": null,
      "grid_gap": null,
      "grid_row": null,
      "grid_template_areas": null,
      "grid_template_columns": null,
      "grid_template_rows": null,
      "height": null,
      "justify_content": null,
      "justify_items": null,
      "left": null,
      "margin": null,
      "max_height": null,
      "max_width": null,
      "min_height": null,
      "min_width": null,
      "object_fit": null,
      "object_position": null,
      "order": null,
      "overflow": null,
      "overflow_x": null,
      "overflow_y": null,
      "padding": null,
      "right": null,
      "top": null,
      "visibility": null,
      "width": null
     }
    },
    "1ba806d7c07d4de9b218acc5ed586544": {
     "model_module": "@jupyter-widgets/controls",
     "model_module_version": "1.5.0",
     "model_name": "DescriptionStyleModel",
     "state": {
      "_model_module": "@jupyter-widgets/controls",
      "_model_module_version": "1.5.0",
      "_model_name": "DescriptionStyleModel",
      "_view_count": null,
      "_view_module": "@jupyter-widgets/base",
      "_view_module_version": "1.2.0",
      "_view_name": "StyleView",
      "description_width": ""
     }
    },
    "496a660d742149018d76d5f2e8a4f5cc": {
     "model_module": "@jupyter-widgets/controls",
     "model_module_version": "1.5.0",
     "model_name": "DescriptionStyleModel",
     "state": {
      "_model_module": "@jupyter-widgets/controls",
      "_model_module_version": "1.5.0",
      "_model_name": "DescriptionStyleModel",
      "_view_count": null,
      "_view_module": "@jupyter-widgets/base",
      "_view_module_version": "1.2.0",
      "_view_name": "StyleView",
      "description_width": ""
     }
    },
    "54de2c977e744868be7cef9dcebef8f0": {
     "model_module": "@jupyter-widgets/base",
     "model_module_version": "1.2.0",
     "model_name": "LayoutModel",
     "state": {
      "_model_module": "@jupyter-widgets/base",
      "_model_module_version": "1.2.0",
      "_model_name": "LayoutModel",
      "_view_count": null,
      "_view_module": "@jupyter-widgets/base",
      "_view_module_version": "1.2.0",
      "_view_name": "LayoutView",
      "align_content": null,
      "align_items": null,
      "align_self": null,
      "border": null,
      "bottom": null,
      "display": null,
      "flex": null,
      "flex_flow": null,
      "grid_area": null,
      "grid_auto_columns": null,
      "grid_auto_flow": null,
      "grid_auto_rows": null,
      "grid_column": null,
      "grid_gap": null,
      "grid_row": null,
      "grid_template_areas": null,
      "grid_template_columns": null,
      "grid_template_rows": null,
      "height": null,
      "justify_content": null,
      "justify_items": null,
      "left": null,
      "margin": null,
      "max_height": null,
      "max_width": null,
      "min_height": null,
      "min_width": null,
      "object_fit": null,
      "object_position": null,
      "order": null,
      "overflow": null,
      "overflow_x": null,
      "overflow_y": null,
      "padding": null,
      "right": null,
      "top": null,
      "visibility": null,
      "width": null
     }
    },
    "5e7d72fed76d4d01b13772f73efea8c8": {
     "model_module": "@jupyter-widgets/base",
     "model_module_version": "1.2.0",
     "model_name": "LayoutModel",
     "state": {
      "_model_module": "@jupyter-widgets/base",
      "_model_module_version": "1.2.0",
      "_model_name": "LayoutModel",
      "_view_count": null,
      "_view_module": "@jupyter-widgets/base",
      "_view_module_version": "1.2.0",
      "_view_name": "LayoutView",
      "align_content": null,
      "align_items": null,
      "align_self": null,
      "border": null,
      "bottom": null,
      "display": null,
      "flex": null,
      "flex_flow": null,
      "grid_area": null,
      "grid_auto_columns": null,
      "grid_auto_flow": null,
      "grid_auto_rows": null,
      "grid_column": null,
      "grid_gap": null,
      "grid_row": null,
      "grid_template_areas": null,
      "grid_template_columns": null,
      "grid_template_rows": null,
      "height": null,
      "justify_content": null,
      "justify_items": null,
      "left": null,
      "margin": null,
      "max_height": null,
      "max_width": null,
      "min_height": null,
      "min_width": null,
      "object_fit": null,
      "object_position": null,
      "order": null,
      "overflow": null,
      "overflow_x": null,
      "overflow_y": null,
      "padding": null,
      "right": null,
      "top": null,
      "visibility": null,
      "width": null
     }
    },
    "72a8a3b366f24c6292281d1388ab7917": {
     "model_module": "@jupyter-widgets/controls",
     "model_module_version": "1.5.0",
     "model_name": "HTMLModel",
     "state": {
      "_dom_classes": [],
      "_model_module": "@jupyter-widgets/controls",
      "_model_module_version": "1.5.0",
      "_model_name": "HTMLModel",
      "_view_count": null,
      "_view_module": "@jupyter-widgets/controls",
      "_view_module_version": "1.5.0",
      "_view_name": "HTMLView",
      "description": "",
      "description_tooltip": null,
      "layout": "IPY_MODEL_18ab642d6ec84e1eb3aafca44169efc2",
      "placeholder": "​",
      "style": "IPY_MODEL_1ba806d7c07d4de9b218acc5ed586544",
      "value": "100%"
     }
    },
    "76a55fb8372d46e09990df0fb096f395": {
     "model_module": "@jupyter-widgets/controls",
     "model_module_version": "1.5.0",
     "model_name": "HBoxModel",
     "state": {
      "_dom_classes": [],
      "_model_module": "@jupyter-widgets/controls",
      "_model_module_version": "1.5.0",
      "_model_name": "HBoxModel",
      "_view_count": null,
      "_view_module": "@jupyter-widgets/controls",
      "_view_module_version": "1.5.0",
      "_view_name": "HBoxView",
      "box_style": "",
      "children": [
       "IPY_MODEL_72a8a3b366f24c6292281d1388ab7917",
       "IPY_MODEL_02dc7572c9e3400b90447aa3c70ed432",
       "IPY_MODEL_09a6d35a5d724e418c52aaa97b3c3228"
      ],
      "layout": "IPY_MODEL_54de2c977e744868be7cef9dcebef8f0"
     }
    },
    "9dad5d6e548d440baf27640c04dbb419": {
     "model_module": "@jupyter-widgets/base",
     "model_module_version": "1.2.0",
     "model_name": "LayoutModel",
     "state": {
      "_model_module": "@jupyter-widgets/base",
      "_model_module_version": "1.2.0",
      "_model_name": "LayoutModel",
      "_view_count": null,
      "_view_module": "@jupyter-widgets/base",
      "_view_module_version": "1.2.0",
      "_view_name": "LayoutView",
      "align_content": null,
      "align_items": null,
      "align_self": null,
      "border": null,
      "bottom": null,
      "display": null,
      "flex": null,
      "flex_flow": null,
      "grid_area": null,
      "grid_auto_columns": null,
      "grid_auto_flow": null,
      "grid_auto_rows": null,
      "grid_column": null,
      "grid_gap": null,
      "grid_row": null,
      "grid_template_areas": null,
      "grid_template_columns": null,
      "grid_template_rows": null,
      "height": null,
      "justify_content": null,
      "justify_items": null,
      "left": null,
      "margin": null,
      "max_height": null,
      "max_width": null,
      "min_height": null,
      "min_width": null,
      "object_fit": null,
      "object_position": null,
      "order": null,
      "overflow": null,
      "overflow_x": null,
      "overflow_y": null,
      "padding": null,
      "right": null,
      "top": null,
      "visibility": null,
      "width": null
     }
    },
    "f271e515826f4cb3a475e5380bca1355": {
     "model_module": "@jupyter-widgets/controls",
     "model_module_version": "1.5.0",
     "model_name": "ProgressStyleModel",
     "state": {
      "_model_module": "@jupyter-widgets/controls",
      "_model_module_version": "1.5.0",
      "_model_name": "ProgressStyleModel",
      "_view_count": null,
      "_view_module": "@jupyter-widgets/base",
      "_view_module_version": "1.2.0",
      "_view_name": "StyleView",
      "bar_color": null,
      "description_width": ""
     }
    }
   }
  }
 },
 "nbformat": 4,
 "nbformat_minor": 0
}
